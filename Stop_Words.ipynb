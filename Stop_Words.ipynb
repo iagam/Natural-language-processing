{
 "cells": [
  {
   "cell_type": "markdown",
   "metadata": {},
   "source": [
    "# Stop Words"
   ]
  },
  {
   "cell_type": "markdown",
   "metadata": {},
   "source": [
    "Stop Words are words which do not contain important significance to be used in Search Queries. Usually, these words are filtered out from search queries because they return a vast amount of unnecessary information. Each programming language will give its own list of stop words to use. Mostly they are words that are commonly used in the English language such as 'as, the, be, are' etc.\n",
    "\n",
    "Words like \"a\" and \"the\" appear so frequently that they don't require tagging as thoroughly as nouns, verbs and modifiers. We call these *stop words*, and they can be filtered from the text to be processed. spaCy holds a built-in list of some 305 English stop words."
   ]
  },
  {
   "cell_type": "code",
   "execution_count": 1,
   "metadata": {},
   "outputs": [],
   "source": [
    "import spacy\n",
    "nlp = spacy.load('en')"
   ]
  },
  {
   "cell_type": "code",
   "execution_count": 2,
   "metadata": {},
   "outputs": [
    {
     "name": "stdout",
     "output_type": "stream",
     "text": [
      "{'themselves', 'just', 'down', 'such', 'except', 'each', 'anyhow', 'using', 'a', 'of', 'when', 'whenever', \"'m\", 'who', 'herself', 'wherever', 'seeming', 'doing', 'do', 'via', 'herein', 'by', 'his', 'might', 'between', '‘re', 'part', 'became', 'through', 'your', 'our', 'for', 'already', 'it', 'too', 'therein', 'done', 'now', 'after', 'everyone', 'others', 'thereupon', 'below', 'whatever', 'n’t', 'further', 'someone', 'amongst', 'amount', 'noone', 'nothing', 'toward', 'if', 'few', 'they', 'whereupon', 'but', '‘ve', 'whose', 'had', 'empty', 'back', 'please', 'their', 'cannot', 'itself', 'whereby', 'be', 'yourselves', 'have', 'then', 'as', 'serious', 'third', 'either', 'more', 'call', 'you', 'becoming', 'own', 'well', 'why', 'anything', 'get', 'and', 'due', 'seem', 'from', 'hence', 'there', 'hereupon', 'or', 'does', 'neither', 're', 'ten', 'never', 'onto', 'not', 'thereby', '‘ll', 'used', 'once', 'only', 'us', 'been', 'thus', 'still', 'twelve', 'in', 'that', 'fifty', 'other', 'sometimes', 'nevertheless', 'put', 'an', 'so', 'same', 'everything', 'nor', 'yourself', 'very', 'yours', 'per', '’ll', 'at', 'fifteen', 'every', 'although', 'least', 'could', '’s', 'ca', 'less', 'behind', 'where', 'made', 'four', 'without', 'beyond', 'somehow', 'unless', 'however', 'with', 'become', 'whom', 'see', 'my', 'various', 'none', 'mostly', 'sometime', 'both', 'around', 'was', 'most', 'full', 'whoever', 'because', 'enough', \"'re\", 'much', 'somewhere', 'two', 'eight', '’d', 'may', 'becomes', 'one', 'whereafter', 'otherwise', 'on', 'nowhere', 'rather', 'whither', 'ever', 'side', 'perhaps', \"n't\", 'he', 'towards', 'sixty', 'some', 'whole', 'out', 'into', 'quite', 'over', 'across', 'ourselves', 'nobody', 'therefore', 'against', 'together', 'twenty', 'n‘t', 'this', 'them', 'upon', 'thence', 'moreover', 'latter', 'show', '‘d', 'hereafter', 'her', 'again', 'being', 'make', 'whether', 'we', 'did', 'myself', 'forty', 'something', '‘s', 'really', '’re', 'though', 'afterwards', 'first', 'thru', 'beside', 'yet', 'next', 'bottom', 'should', \"'ve\", 'top', 'beforehand', 'everywhere', 'will', 'former', 'say', 'before', 'elsewhere', 'until', 'eleven', 'along', 'nine', \"'ll\", 'are', 'seemed', 'meanwhile', 'those', 'take', 'the', 'can', 'which', 'what', 'alone', 'throughout', 'else', 'even', 'namely', 'several', 'another', 'thereafter', 'regarding', 'is', 'about', 'often', 'always', 'than', 'latterly', '’m', 'no', 'within', 'almost', 'among', 'keep', 'three', 'himself', 'all', 'move', 'besides', 'would', 'during', 'me', 'formerly', 'am', 'above', 'name', 'him', 'mine', 'since', 'hundred', 'has', '’ve', 'up', 'go', 'hers', 'many', 'under', 'anyone', 'off', 'whence', 'six', 'i', 'she', \"'s\", 'hereby', 'while', 'wherein', 'indeed', 'any', 'anyway', '‘m', 'to', \"'d\", 'whereas', 'five', 'last', 'must', 'give', 'here', 'were', 'how', 'also', 'ours', 'front', 'seems', 'its', 'anywhere', 'these'}\n"
     ]
    }
   ],
   "source": [
    "print(nlp.Defaults.stop_words)"
   ]
  },
  {
   "cell_type": "code",
   "execution_count": 3,
   "metadata": {},
   "outputs": [
    {
     "data": {
      "text/plain": [
       "326"
      ]
     },
     "execution_count": 3,
     "metadata": {},
     "output_type": "execute_result"
    }
   ],
   "source": [
    "len(nlp.Defaults.stop_words)"
   ]
  },
  {
   "cell_type": "code",
   "execution_count": 5,
   "metadata": {},
   "outputs": [
    {
     "data": {
      "text/plain": [
       "True"
      ]
     },
     "execution_count": 5,
     "metadata": {},
     "output_type": "execute_result"
    }
   ],
   "source": [
    "nlp.vocab['is'].is_stop"
   ]
  },
  {
   "cell_type": "code",
   "execution_count": 6,
   "metadata": {},
   "outputs": [
    {
     "data": {
      "text/plain": [
       "False"
      ]
     },
     "execution_count": 6,
     "metadata": {},
     "output_type": "execute_result"
    }
   ],
   "source": [
    "nlp.vocab['mystery'].is_stop"
   ]
  },
  {
   "cell_type": "code",
   "execution_count": 7,
   "metadata": {},
   "outputs": [],
   "source": [
    "# Adding stopwords of your own\n",
    "\n",
    "nlp.Defaults.stop_words.add('btw')"
   ]
  },
  {
   "cell_type": "code",
   "execution_count": 10,
   "metadata": {},
   "outputs": [],
   "source": [
    "nlp.vocab['btw'].is_stop = True"
   ]
  },
  {
   "cell_type": "code",
   "execution_count": 11,
   "metadata": {},
   "outputs": [
    {
     "data": {
      "text/plain": [
       "True"
      ]
     },
     "execution_count": 11,
     "metadata": {},
     "output_type": "execute_result"
    }
   ],
   "source": [
    "nlp.vocab['btw'].is_stop"
   ]
  },
  {
   "cell_type": "code",
   "execution_count": 12,
   "metadata": {},
   "outputs": [
    {
     "data": {
      "text/plain": [
       "327"
      ]
     },
     "execution_count": 12,
     "metadata": {},
     "output_type": "execute_result"
    }
   ],
   "source": [
    "len(nlp.Defaults.stop_words)"
   ]
  },
  {
   "cell_type": "code",
   "execution_count": 13,
   "metadata": {},
   "outputs": [],
   "source": [
    "# Remove a stop word\n",
    "\n",
    "nlp.Defaults.stop_words.remove('beyond')"
   ]
  },
  {
   "cell_type": "code",
   "execution_count": 14,
   "metadata": {},
   "outputs": [],
   "source": [
    "nlp.vocab['beyond'].is_stop = False"
   ]
  },
  {
   "cell_type": "code",
   "execution_count": 15,
   "metadata": {},
   "outputs": [
    {
     "data": {
      "text/plain": [
       "False"
      ]
     },
     "execution_count": 15,
     "metadata": {},
     "output_type": "execute_result"
    }
   ],
   "source": [
    "nlp.vocab['beyond'].is_stop"
   ]
  },
  {
   "cell_type": "code",
   "execution_count": null,
   "metadata": {},
   "outputs": [],
   "source": []
  },
  {
   "cell_type": "code",
   "execution_count": null,
   "metadata": {},
   "outputs": [],
   "source": []
  },
  {
   "cell_type": "code",
   "execution_count": null,
   "metadata": {},
   "outputs": [],
   "source": []
  },
  {
   "cell_type": "code",
   "execution_count": null,
   "metadata": {},
   "outputs": [],
   "source": []
  },
  {
   "cell_type": "code",
   "execution_count": null,
   "metadata": {},
   "outputs": [],
   "source": []
  }
 ],
 "metadata": {
  "kernelspec": {
   "display_name": "Python 3",
   "language": "python",
   "name": "python3"
  },
  "language_info": {
   "codemirror_mode": {
    "name": "ipython",
    "version": 3
   },
   "file_extension": ".py",
   "mimetype": "text/x-python",
   "name": "python",
   "nbconvert_exporter": "python",
   "pygments_lexer": "ipython3",
   "version": "3.7.4"
  }
 },
 "nbformat": 4,
 "nbformat_minor": 2
}
