{
 "cells": [
  {
   "cell_type": "code",
   "execution_count": 4,
   "metadata": {},
   "outputs": [],
   "source": [
    "import spacy\n",
    "nlp = spacy.load('en')"
   ]
  },
  {
   "cell_type": "code",
   "execution_count": 6,
   "metadata": {},
   "outputs": [],
   "source": [
    "sample = open('../sample.txt',mode='r',encoding='utf-8')\n",
    "sample.seek(0)\n",
    "mystring = sample.read()"
   ]
  },
  {
   "cell_type": "code",
   "execution_count": 9,
   "metadata": {},
   "outputs": [],
   "source": [
    "doc = nlp(mystring)"
   ]
  },
  {
   "cell_type": "code",
   "execution_count": 12,
   "metadata": {},
   "outputs": [],
   "source": [
    "tokens = []\n",
    "for token in doc:\n",
    "    tokens.append(token)"
   ]
  },
  {
   "cell_type": "code",
   "execution_count": 13,
   "metadata": {},
   "outputs": [
    {
     "name": "stdout",
     "output_type": "stream",
     "text": [
      "[A, Recommender, System, predicts, the, likelihood, that, a, user, would, prefer, an, item, ., Based, on, previous, user, interaction, with, the, data, source, that, the, system, takes, the, information, from, (, besides, the, data, from, other, users, ,, or, historical, trends, ), ,, the, system, is, capable, of, recommending, an, item, to, a, user, ., Think, about, the, fact, that, Amazon, recommends, you, books, that, they, think, you, could, like, ;, Amazon, might, be, making, effective, use, of, a, Recommender, System, behind, the, curtains, ., This, simple, definition, ,, allows, us, to, think, in, a, diverse, set, of, applications, where, Recommender, Systems, might, be, useful, ., Applications, such, as, documents, ,, movies, ,, music, ,, romantic, partners, ,, or, who, to, follow, on, Twitter, ,, are, pervasive, and, widely, known, in, the, world, of, Information, Retrieval, ., Such, amazing, applications, ,, carry, a, huge, amount, of, theory, behind, them, ., While, theory, can, be, a, little, bit, intimidating, and, dry, ,, basic, understanding, of, data, structures, ,, a, programming, language, ,, and, a, little, bit, of, abstraction, is, all, you, need, to, understand, the, basics, of, recommender, systems, ., \n",
      ", In, this, tutorial, ,, We, will, help, you, gain, a, basic, understanding, on, collaborative, based, Recommender, Systems, ,, by, building, the, most, basic, Recommender, System, out, there, ., We, hope, that, this, tutorial, motivates, you, to, find, out, more, about, Recommender, Systems, ,, both, in, theory, and, practice, ., The, prerequisites, to, reading, this, tutorial, are, knowledge, of, a, programming, language, (, we, ’ll, use, Python, ,, but, if, you, know, how, do, Hash, Maps, and, List, works, ,, you, ’re, in, good, shape, ), ,, and, a, little, bit, of, high, -, school, algebra, ., You, do, not, need, to, have, prior, exposure, to, Recommender, Systems, ., This, tutorial, makes, use, of, a, class, of, RS, (, Recommender, System, ), algorithm, called, collaborative, filtering, ., A, collaborative, filtering, algorithm, works, by, finding, a, set, of, people, (, assuming, persons, are, the, only, client, or, user, of, a, RS, ), with, preferences, or, tastes, similar, to, the, target, user, ., Using, this, smaller, set, of, “, similar, ”, people, ,, it, constructs, a, ranked, list, of, suggestions, ., There, are, several, ways, to, measure, the, similarity, of, two, people, ., It, ’s, important, to, highlight, that, we, ’re, not, going, to, use, attributes, or, descriptors, of, an, item, to, recommend, it, ,, we, ’re, just, using, the, tastes, or, preferences, over, that, item, ., \n",
      ", Assuming, that, our, users, are, people, ,, and, our, items, are, simply, that, :, items, ,, we, need, to, organize, our, data, to, ease, the, processing, step, ., We, ’re, assuming, that, the, data, fits, in, memory, ,, and, that, you, can, organize, the, data, as, follows, ., The, data, structure, that, we, are, going, to, use, ,, consists, of, people, pointing, to, a, dictionary, whose, keys, are, the, items, ,, and, values, are, the, numeric, preference, of, each, person, on, this, item, ., If, a, person, has, never, ranked, the, item, ,, C[i, ,, j, ], ,, is, null, ., In, this, notation, C[i, ,, j, ], represents, the, numeric, rating, of, Person, j, ,, over, the, Item, i., No, matter, how, the, rating, is, expressed, ,, we, need, to, convert, them, to, numeric, values, ., A, sample, data, structure, for, our, working, example, is, the, following, definition, of, a, Python, dictionary, ,, it, includes, some, ratings, of, people, (, if, you, wonder, who, these, folks, are, ,, please, click, over, them, ., We, computer, scientists, owe, much, to, them, ), to, computer, science, related, books, ., The, whole, code, for, this, toy, Recommender, System, is, on, Github, ., In, this, example, ,, Leslie, Lamport, ,, rates, the, book, Software, engineering, with, 3.76, ,, while, Robin, Milner, ,, rates, the, Programming, language, theory, book, with, 5.0, ., A, simple, problem, that, we, might, want, to, solve, using, this, dataset, and, a, recommender, system, ,, is, how, likely, Marvin, Minsky, is, to, like, the, title, Programming, language, theory, ., In, order, to, solve, this, kind, of, problems, ,, we, do, need, a, way, to, measure, how, similar, people, are, based, on, their, rankings, ., A, naive, but, popular, approach, is, to, compare, every, pair, and, find, a, similarity, score, ;, now, the, problem, is, to, find, an, adequate, similarity, score, ., The, most, common, approaches, to, the, similarity, problem, ,, are, score, by, Euclidean, Distance, ,, and, using, the, Pearson, Correlation, Coefficient, ;, both, terms, are, deeply, related, to, statistics, and, linear, algebra, ., \n",
      ", Euclidean, distance, score, \n",
      ", The, Euclidean, distance, between, two, points, is, the, length, of, the, line, segments, connecting, them, ., Our, Euclidean, space, in, this, particular, case, is, the, positive, portion, of, the, plane, where, the, axes, are, the, ranked, items, and, the, points, represent, the, scores, that, a, particular, person, gives, to, both, items, ., Two, people, belong, to, a, certain, preference, space, if, and, only, if, ,, they, have, ranked, the, two, items, that, defines, the, preference, space, ., So, we, define, a, preference, space, for, each, pair, of, distinct, items, ,, and, the, points, in, this, preference, space, ,, are, given, by, the, people, that, ranked, the, two, items, ., To, visualize, this, idea, ,, we, consider, the, preference, space, ,, defined, by, the, items, Systems, programming, ,, and, Programming, language, theory, .]\n"
     ]
    }
   ],
   "source": [
    "print(tokens)"
   ]
  },
  {
   "cell_type": "code",
   "execution_count": 16,
   "metadata": {},
   "outputs": [],
   "source": [
    "from nltk.stem import SnowballStemmer\n",
    "s_stemmer = SnowballStemmer(language='english')"
   ]
  },
  {
   "cell_type": "code",
   "execution_count": 21,
   "metadata": {},
   "outputs": [
    {
     "data": {
      "text/plain": [
       "'a recommend system predict the likelihood that a user would prefer an item . base on previous user interact with the data sourc that the system take the inform from ( besid the data from other user , or histor trend ) , the system is capabl of recommend an item to a user . think about the fact that amazon recommend you book that they think you could like ; amazon might be make effect use of a recommend system behind the curtain . this simpl definit , allow us to think in a divers set of applic where recommend system might be use . applic such as document , movi , music , romant partner , or who to follow on twitter , are pervas and wide known in the world of inform retriev . such amaz applic , carri a huge amount of theori behind them . while theori can be a littl bit intimid and dri , basic understand of data structur , a program languag , and a littl bit of abstract is all you need to understand the basic of recommend system . \\n in this tutori , we will help you gain a basic understand on collabor base recommend system , by build the most basic recommend system out there . we hope that this tutori motiv you to find out more about recommend system , both in theori and practic . the prerequisit to read this tutori are knowledg of a program languag ( we ll use python , but if you know how do hash map and list work , you re in good shape ) , and a littl bit of high - school algebra . you do not need to have prior exposur to recommend system . this tutori make use of a class of rs ( recommend system ) algorithm call collabor filter . a collabor filter algorithm work by find a set of peopl ( assum person are the onli client or user of a rs ) with prefer or tast similar to the target user . use this smaller set of “ similar ” peopl , it construct a rank list of suggest . there are sever way to measur the similar of two peopl . it ’s import to highlight that we re not go to use attribut or descriptor of an item to recommend it , we re just use the tast or prefer over that item . \\n assum that our user are peopl , and our item are simpli that : item , we need to organ our data to eas the process step . we re assum that the data fit in memori , and that you can organ the data as follow . the data structur that we are go to use , consist of peopl point to a dictionari whose key are the item , and valu are the numer prefer of each person on this item . if a person has never rank the item , c[i , j ] , is null . in this notat c[i , j ] repres the numer rate of person j , over the item i. no matter how the rate is express , we need to convert them to numer valu . a sampl data structur for our work exampl is the follow definit of a python dictionari , it includ some rate of peopl ( if you wonder who these folk are , pleas click over them . we comput scientist owe much to them ) to comput scienc relat book . the whole code for this toy recommend system is on github . in this exampl , lesli lamport , rate the book softwar engin with 3.76 , while robin milner , rate the program languag theori book with 5.0 . a simpl problem that we might want to solv use this dataset and a recommend system , is how like marvin minski is to like the titl program languag theori . in order to solv this kind of problem , we do need a way to measur how similar peopl are base on their rank . a naiv but popular approach is to compar everi pair and find a similar score ; now the problem is to find an adequ similar score . the most common approach to the similar problem , are score by euclidean distanc , and use the pearson correl coeffici ; both term are deepli relat to statist and linear algebra . \\n euclidean distanc score \\n the euclidean distanc between two point is the length of the line segment connect them . our euclidean space in this particular case is the posit portion of the plane where the axe are the rank item and the point repres the score that a particular person give to both item . two peopl belong to a certain prefer space if and onli if , they have rank the two item that defin the prefer space . so we defin a prefer space for each pair of distinct item , and the point in this prefer space , are given by the peopl that rank the two item . to visual this idea , we consid the prefer space , defin by the item system program , and program languag theori .'"
      ]
     },
     "execution_count": 21,
     "metadata": {},
     "output_type": "execute_result"
    }
   ],
   "source": [
    "stemmed = []\n",
    "for word in tokens:\n",
    "    word = str(word)\n",
    "    stemmed.append(s_stemmer.stem(word))\n",
    "\" \".join(stemmed)"
   ]
  },
  {
   "cell_type": "code",
   "execution_count": null,
   "metadata": {},
   "outputs": [],
   "source": []
  }
 ],
 "metadata": {
  "kernelspec": {
   "display_name": "Python 3",
   "language": "python",
   "name": "python3"
  },
  "language_info": {
   "codemirror_mode": {
    "name": "ipython",
    "version": 3
   },
   "file_extension": ".py",
   "mimetype": "text/x-python",
   "name": "python",
   "nbconvert_exporter": "python",
   "pygments_lexer": "ipython3",
   "version": "3.7.4"
  }
 },
 "nbformat": 4,
 "nbformat_minor": 2
}
